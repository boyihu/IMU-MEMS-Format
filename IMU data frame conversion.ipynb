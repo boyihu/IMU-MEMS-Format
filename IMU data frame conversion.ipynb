{
 "cells": [
  {
   "cell_type": "code",
   "execution_count": 1,
   "metadata": {
    "collapsed": false
   },
   "outputs": [
    {
     "name": "stdout",
     "output_type": "stream",
     "text": [
      "Populating the interactive namespace from numpy and matplotlib\n"
     ]
    }
   ],
   "source": [
    "%pylab inline"
   ]
  },
  {
   "cell_type": "markdown",
   "metadata": {},
   "source": [
    "# 1: Read in the file"
   ]
  },
  {
   "cell_type": "code",
   "execution_count": 2,
   "metadata": {
    "collapsed": false
   },
   "outputs": [
    {
     "data": {
      "text/html": [
       "<div>\n",
       "<table border=\"1\" class=\"dataframe\">\n",
       "  <thead>\n",
       "    <tr style=\"text-align: right;\">\n",
       "      <th></th>\n",
       "      <th>timestamp</th>\n",
       "      <th>type</th>\n",
       "      <th>x</th>\n",
       "      <th>y</th>\n",
       "      <th>z</th>\n",
       "    </tr>\n",
       "  </thead>\n",
       "  <tbody>\n",
       "    <tr>\n",
       "      <th>0</th>\n",
       "      <td>1380053672</td>\n",
       "      <td>r</td>\n",
       "      <td>-0.020386</td>\n",
       "      <td>0.020549</td>\n",
       "      <td>0.001251</td>\n",
       "    </tr>\n",
       "    <tr>\n",
       "      <th>1</th>\n",
       "      <td>1380064168</td>\n",
       "      <td>r</td>\n",
       "      <td>-0.017982</td>\n",
       "      <td>0.020502</td>\n",
       "      <td>0.003713</td>\n",
       "    </tr>\n",
       "    <tr>\n",
       "      <th>2</th>\n",
       "      <td>486416714040954</td>\n",
       "      <td>heading</td>\n",
       "      <td>-19.308655</td>\n",
       "      <td>-8.518478</td>\n",
       "      <td>-29.290878</td>\n",
       "    </tr>\n",
       "    <tr>\n",
       "      <th>3</th>\n",
       "      <td>1380058567</td>\n",
       "      <td>a</td>\n",
       "      <td>-0.006042</td>\n",
       "      <td>0.003784</td>\n",
       "      <td>-1.001617</td>\n",
       "    </tr>\n",
       "  </tbody>\n",
       "</table>\n",
       "</div>"
      ],
      "text/plain": [
       "         timestamp     type          x         y          z\n",
       "0       1380053672        r  -0.020386  0.020549   0.001251\n",
       "1       1380064168        r  -0.017982  0.020502   0.003713\n",
       "2  486416714040954  heading -19.308655 -8.518478 -29.290878\n",
       "3       1380058567        a  -0.006042  0.003784  -1.001617"
      ]
     },
     "execution_count": 2,
     "metadata": {},
     "output_type": "execute_result"
    }
   ],
   "source": [
    "file_id='test_data.csv'\n",
    "df_read=pd.read_csv(file_id)\n",
    "df_read.columns=df_read.columns.str.lower().values\n",
    "df_read.head(4)"
   ]
  },
  {
   "cell_type": "code",
   "execution_count": 3,
   "metadata": {
    "collapsed": false
   },
   "outputs": [
    {
     "data": {
      "text/plain": [
       "array(['r', 'heading', 'a', 'm'], dtype=object)"
      ]
     },
     "execution_count": 3,
     "metadata": {},
     "output_type": "execute_result"
    }
   ],
   "source": [
    "#What are the sensor types in the data file?\n",
    "types_found=pd.unique(df_read['type'])\n",
    "types_found"
   ]
  },
  {
   "cell_type": "code",
   "execution_count": 4,
   "metadata": {
    "collapsed": true
   },
   "outputs": [],
   "source": [
    "# The sampling frequency:\n",
    "f_s=200"
   ]
  },
  {
   "cell_type": "markdown",
   "metadata": {},
   "source": [
    "# 2: Extrapolation/Upsampling function"
   ]
  },
  {
   "cell_type": "code",
   "execution_count": 5,
   "metadata": {
    "collapsed": false
   },
   "outputs": [
    {
     "name": "stderr",
     "output_type": "stream",
     "text": [
      "C:\\toolkits\\anaconda2-4.1.0\\lib\\site-packages\\ipykernel\\__main__.py:6: SettingWithCopyWarning: \n",
      "A value is trying to be set on a copy of a slice from a DataFrame.\n",
      "Try using .loc[row_indexer,col_indexer] = value instead\n",
      "\n",
      "See the caveats in the documentation: http://pandas.pydata.org/pandas-docs/stable/indexing.html#indexing-view-versus-copy\n"
     ]
    }
   ],
   "source": [
    "imu_sensor_types=['a','m','r']\n",
    "imu_found=set(types_found).intersection(set(imu_sensor_types))\n",
    "\n",
    "df_imu=df_read.ix[(df_read['type']=='a')|(df_read['type']=='m')|(df_read['type']=='r'),:]\n",
    "df_imu.reset_index(inplace=True,drop=True)\n",
    "df_imu['time']=(df_imu.timestamp-df_imu.timestamp.min())/1e6\n",
    "\n",
    "\n",
    "time_uniform=np.linspace(df_imu.timestamp.min(), df_imu.timestamp.max(), np.ceil(f_s*df_imu.time.max()))\n",
    "\n",
    "from scipy.interpolate import interp1d\n",
    "from scipy import array\n",
    "# Extrapolation code from: http://stackoverflow.com/questions/2745329/how-to-make-scipy-interpolate-give-an-extrapolated-result-beyond-the-input-range\n",
    "\n",
    "def extrap1d(interpolator):\n",
    "    xs = interpolator.x\n",
    "    ys = interpolator.y\n",
    "\n",
    "    def pointwise(x):\n",
    "        if x < xs[0]:\n",
    "            return ys[0]+(x-xs[0])*(ys[1]-ys[0])/(xs[1]-xs[0])\n",
    "        elif x > xs[-1]:\n",
    "            return ys[-1]+(x-xs[-1])*(ys[-1]-ys[-2])/(xs[-1]-xs[-2])\n",
    "        else:\n",
    "            return interpolator(x)\n",
    "\n",
    "    def ufunclike(xs):\n",
    "        return array(map(pointwise, array(xs)))\n",
    "\n",
    "    return ufunclike\n",
    "\n",
    "def extrapolate_1d(time_in,values_in,time_uniform):\n",
    "    f_x = extrap1d(interp1d(time_in,values_in))\n",
    "    values_out =f_x(time_uniform)\n",
    "    return values_out\n",
    "\n"
   ]
  },
  {
   "cell_type": "markdown",
   "metadata": {},
   "source": [
    "# 3: Extrapolate the data and convert the $n_{readings} \\times 3$ dataframe into $n_{samples} \\times \\left( 3n_{sensors}+2\\right)$ dataframe, where $n_{samples}=ceil \\left( f_s . timespan (df_{read}) \\right)$"
   ]
  },
  {
   "cell_type": "code",
   "execution_count": 6,
   "metadata": {
    "collapsed": false
   },
   "outputs": [],
   "source": [
    "df_imu_out=pd.DataFrame(data=time_uniform,columns=['timestamp'])\n",
    "imu_srt=sorted(list(imu_found))\n",
    "sens_present=''.join(map(str, imu_srt))\n",
    "df_imu_out['sens_present']=sens_present\n",
    "import itertools\n",
    "spatial_axes=list(['x','y','z'])\n",
    "imu_axes_comb=list(itertools.product(imu_found,spatial_axes))\n",
    "imu_axes_comb\n",
    "for sens_ax in imu_axes_comb:\n",
    "    time_in=df_imu.ix[df_imu.type==sens_ax[0],'timestamp']\n",
    "    values_in=df_imu.ix[df_imu.type==sens_ax[0],sens_ax[1]]\n",
    "    df_imu_out[sens_ax[0]+sens_ax[1]]=extrapolate_1d(time_in,values_in,time_uniform)\n",
    "    \n"
   ]
  },
  {
   "cell_type": "markdown",
   "metadata": {},
   "source": [
    "# 4: The format of the output is .."
   ]
  },
  {
   "cell_type": "code",
   "execution_count": 7,
   "metadata": {
    "collapsed": false
   },
   "outputs": [
    {
     "data": {
      "text/html": [
       "<div>\n",
       "<table border=\"1\" class=\"dataframe\">\n",
       "  <thead>\n",
       "    <tr style=\"text-align: right;\">\n",
       "      <th></th>\n",
       "      <th>timestamp</th>\n",
       "      <th>sens_present</th>\n",
       "      <th>ax</th>\n",
       "      <th>ay</th>\n",
       "      <th>az</th>\n",
       "      <th>rx</th>\n",
       "      <th>ry</th>\n",
       "      <th>rz</th>\n",
       "      <th>mx</th>\n",
       "      <th>my</th>\n",
       "      <th>mz</th>\n",
       "    </tr>\n",
       "  </thead>\n",
       "  <tbody>\n",
       "    <tr>\n",
       "      <th>0</th>\n",
       "      <td>1.380054e+09</td>\n",
       "      <td>amr</td>\n",
       "      <td>-0.006073</td>\n",
       "      <td>0.004948</td>\n",
       "      <td>-1.004369</td>\n",
       "      <td>-0.020386</td>\n",
       "      <td>0.020549</td>\n",
       "      <td>0.001251</td>\n",
       "      <td>-29.296599</td>\n",
       "      <td>177.540058</td>\n",
       "      <td>-171.808550</td>\n",
       "    </tr>\n",
       "    <tr>\n",
       "      <th>1</th>\n",
       "      <td>1.380059e+09</td>\n",
       "      <td>amr</td>\n",
       "      <td>-0.006042</td>\n",
       "      <td>0.003758</td>\n",
       "      <td>-1.001556</td>\n",
       "      <td>-0.019240</td>\n",
       "      <td>0.020526</td>\n",
       "      <td>0.002425</td>\n",
       "      <td>-29.263641</td>\n",
       "      <td>177.241402</td>\n",
       "      <td>-171.776276</td>\n",
       "    </tr>\n",
       "    <tr>\n",
       "      <th>2</th>\n",
       "      <td>1.380064e+09</td>\n",
       "      <td>amr</td>\n",
       "      <td>-0.006011</td>\n",
       "      <td>0.002568</td>\n",
       "      <td>-0.998742</td>\n",
       "      <td>-0.018094</td>\n",
       "      <td>0.020504</td>\n",
       "      <td>0.003599</td>\n",
       "      <td>-29.230683</td>\n",
       "      <td>176.942746</td>\n",
       "      <td>-171.744002</td>\n",
       "    </tr>\n",
       "    <tr>\n",
       "      <th>3</th>\n",
       "      <td>1.380069e+09</td>\n",
       "      <td>amr</td>\n",
       "      <td>-0.005988</td>\n",
       "      <td>0.001576</td>\n",
       "      <td>-0.995782</td>\n",
       "      <td>-0.016415</td>\n",
       "      <td>0.019978</td>\n",
       "      <td>0.002634</td>\n",
       "      <td>-29.197725</td>\n",
       "      <td>176.644090</td>\n",
       "      <td>-171.711727</td>\n",
       "    </tr>\n",
       "  </tbody>\n",
       "</table>\n",
       "</div>"
      ],
      "text/plain": [
       "      timestamp sens_present        ax        ay        az        rx  \\\n",
       "0  1.380054e+09          amr -0.006073  0.004948 -1.004369 -0.020386   \n",
       "1  1.380059e+09          amr -0.006042  0.003758 -1.001556 -0.019240   \n",
       "2  1.380064e+09          amr -0.006011  0.002568 -0.998742 -0.018094   \n",
       "3  1.380069e+09          amr -0.005988  0.001576 -0.995782 -0.016415   \n",
       "\n",
       "         ry        rz         mx          my          mz  \n",
       "0  0.020549  0.001251 -29.296599  177.540058 -171.808550  \n",
       "1  0.020526  0.002425 -29.263641  177.241402 -171.776276  \n",
       "2  0.020504  0.003599 -29.230683  176.942746 -171.744002  \n",
       "3  0.019978  0.002634 -29.197725  176.644090 -171.711727  "
      ]
     },
     "execution_count": 7,
     "metadata": {},
     "output_type": "execute_result"
    }
   ],
   "source": [
    "df_imu_out.head(4)"
   ]
  },
  {
   "cell_type": "markdown",
   "metadata": {},
   "source": [
    "# 5: *Functionizing* the conversion"
   ]
  },
  {
   "cell_type": "code",
   "execution_count": null,
   "metadata": {
    "collapsed": false
   },
   "outputs": [],
   "source": [
    "from scipy.interpolate import interp1d\n",
    "from scipy import array\n",
    "import itertools\n",
    "\n",
    "def extrap1d(interpolator):\n",
    "    xs = interpolator.x\n",
    "    ys = interpolator.y\n",
    "\n",
    "    def pointwise(x):\n",
    "        if x < xs[0]:\n",
    "            return ys[0]+(x-xs[0])*(ys[1]-ys[0])/(xs[1]-xs[0])\n",
    "        elif x > xs[-1]:\n",
    "            return ys[-1]+(x-xs[-1])*(ys[-1]-ys[-2])/(xs[-1]-xs[-2])\n",
    "        else:\n",
    "            return interpolator(x)\n",
    "\n",
    "    def ufunclike(xs):\n",
    "        return array(map(pointwise, array(xs)))\n",
    "\n",
    "    return ufunclike\n",
    "\n",
    "def extrapolate_1d(time_in,values_in,time_uniform):\n",
    "    f_x = extrap1d(interp1d(time_in,values_in))\n",
    "    values_out =f_x(time_uniform)\n",
    "    return values_out\n",
    "\n",
    "\n",
    "def imu_df_gen(df_read, f_s):\n",
    "    ''' Linearly extrapolate the data and convert the $n_{readings} \\times 3$ dataframe into \n",
    "    $n_{samples} \\times \\left( 3n_{sensors}+2\\right)$ dataframe, where \n",
    "    $n_{samples}=ceil \\left( f_s . timespan (df_{read}) \\right)$ '''\n",
    "\n",
    "    df_read.columns=df_read.columns.str.lower().values\n",
    "    types_found=pd.unique(df_read['type'])\n",
    "    imu_sensor_types=['a','m','r']\n",
    "    imu_found=set(types_found).intersection(set(imu_sensor_types))\n",
    "\n",
    "    df_imu=df_read.ix[(df_read['type']=='a')|(df_read['type']=='m')|(df_read['type']=='r'),:]\n",
    "    df_imu.reset_index(inplace=True,drop=True)\n",
    "    df_imu['time']=(df_imu.timestamp-df_imu.timestamp.min())/1e6\n",
    "\n",
    "    time_uniform=np.linspace(df_imu.timestamp.min(), df_imu.timestamp.max(), np.ceil(f_s*df_imu.time.max()))\n",
    "\n",
    "    # Extrapolation code from: http://stackoverflow.com/questions/2745329/how-to-make-scipy-interpolate-give-an-extrapolated-result-beyond-the-input-range\n",
    "\n",
    "    df_imu_out=pd.DataFrame(data=time_uniform,columns=['timestamp'])\n",
    "    imu_srt=sorted(list(imu_found))\n",
    "    sens_present=''.join(map(str, imu_srt))\n",
    "    df_imu_out['sens_present']=sens_present\n",
    "\n",
    "    spatial_axes=list(['x','y','z'])\n",
    "    imu_axes_comb=list(itertools.product(imu_found,spatial_axes))\n",
    "    imu_axes_comb\n",
    "    for sens_ax in imu_axes_comb:\n",
    "        time_in=df_imu.ix[df_imu.type==sens_ax[0],'timestamp']\n",
    "        values_in=df_imu.ix[df_imu.type==sens_ax[0],sens_ax[1]]\n",
    "        df_imu_out[sens_ax[0]+sens_ax[1]]=extrapolate_1d(time_in,values_in,time_uniform)\n",
    "\n",
    "    return df_imu_out"
   ]
  },
  {
   "cell_type": "code",
   "execution_count": 12,
   "metadata": {
    "collapsed": false
   },
   "outputs": [
    {
     "name": "stderr",
     "output_type": "stream",
     "text": [
      "C:\\toolkits\\anaconda2-4.1.0\\lib\\site-packages\\ipykernel\\__main__.py:40: SettingWithCopyWarning: \n",
      "A value is trying to be set on a copy of a slice from a DataFrame.\n",
      "Try using .loc[row_indexer,col_indexer] = value instead\n",
      "\n",
      "See the caveats in the documentation: http://pandas.pydata.org/pandas-docs/stable/indexing.html#indexing-view-versus-copy\n"
     ]
    }
   ],
   "source": [
    "df_test=pd.read_csv('test_data.csv')\n",
    "df_out=imu_df_gen(df_test,200)"
   ]
  },
  {
   "cell_type": "code",
   "execution_count": 18,
   "metadata": {
    "collapsed": false
   },
   "outputs": [
    {
     "data": {
      "text/plain": [
       "ax    0.0\n",
       "ay    0.0\n",
       "az    0.0\n",
       "rx    0.0\n",
       "ry    0.0\n",
       "rz    0.0\n",
       "mx    0.0\n",
       "my    0.0\n",
       "mz    0.0\n",
       "dtype: float64"
      ]
     },
     "execution_count": 18,
     "metadata": {},
     "output_type": "execute_result"
    }
   ],
   "source": [
    "#Deviations if any?\n",
    "(df_out.ix[:,2:]-df_imu_out.ix[:,2:]).max()"
   ]
  }
 ],
 "metadata": {
  "kernelspec": {
   "display_name": "Python [Root]",
   "language": "python",
   "name": "Python [Root]"
  },
  "language_info": {
   "codemirror_mode": {
    "name": "ipython",
    "version": 2
   },
   "file_extension": ".py",
   "mimetype": "text/x-python",
   "name": "python",
   "nbconvert_exporter": "python",
   "pygments_lexer": "ipython2",
   "version": "2.7.11"
  }
 },
 "nbformat": 4,
 "nbformat_minor": 0
}
